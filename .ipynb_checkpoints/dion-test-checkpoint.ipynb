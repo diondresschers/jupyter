{
 "cells": [
  {
   "cell_type": "code",
   "execution_count": 2,
   "metadata": {
    "collapsed": true
   },
   "outputs": [],
   "source": [
    "woord = 'dion'"
   ]
  },
  {
   "cell_type": "code",
   "execution_count": 5,
   "metadata": {},
   "outputs": [
    {
     "name": "stdout",
     "output_type": "stream",
     "text": [
      "dion\n"
     ]
    }
   ],
   "source": [
    "print(woord)"
   ]
  },
  {
   "cell_type": "code",
   "execution_count": 8,
   "metadata": {},
   "outputs": [
    {
     "name": "stdout",
     "output_type": "stream",
     "text": [
      "dion-test.ipynb  Untitled1.ipynb  Untitled.ipynb\r\n"
     ]
    }
   ],
   "source": [
    "!ls"
   ]
  },
  {
   "cell_type": "code",
   "execution_count": 12,
   "metadata": {},
   "outputs": [
    {
     "name": "stdout",
     "output_type": "stream",
     "text": [
      "chemi.svg  dion-test.ipynb  Untitled1.ipynb  Untitled.ipynb\r\n"
     ]
    }
   ],
   "source": [
    "!ls"
   ]
  },
  {
   "cell_type": "code",
   "execution_count": 29,
   "metadata": {
    "collapsed": true
   },
   "outputs": [],
   "source": [
    "naam = 'Dion'"
   ]
  },
  {
   "cell_type": "code",
   "execution_count": 30,
   "metadata": {},
   "outputs": [
    {
     "name": "stdout",
     "output_type": "stream",
     "text": [
      "Dion\n"
     ]
    }
   ],
   "source": [
    "print(naam)"
   ]
  },
  {
   "cell_type": "code",
   "execution_count": 28,
   "metadata": {},
   "outputs": [
    {
     "name": "stdout",
     "output_type": "stream",
     "text": [
      "101\n"
     ]
    }
   ],
   "source": [
    "print(100+1)"
   ]
  },
  {
   "cell_type": "code",
   "execution_count": 18,
   "metadata": {
    "collapsed": true
   },
   "outputs": [],
   "source": [
    "from IPython.display import Image"
   ]
  },
  {
   "cell_type": "code",
   "execution_count": 20,
   "metadata": {},
   "outputs": [
    {
     "name": "stdout",
     "output_type": "stream",
     "text": [
      "chemi.svg  dion-test.ipynb  Untitled1.ipynb  Untitled.ipynb\r\n"
     ]
    }
   ],
   "source": [
    "!ls"
   ]
  },
  {
   "cell_type": "code",
   "execution_count": 22,
   "metadata": {
    "collapsed": true
   },
   "outputs": [],
   "source": [
    "i = Image(url='chemi.svg')"
   ]
  },
  {
   "cell_type": "code",
   "execution_count": 24,
   "metadata": {},
   "outputs": [
    {
     "data": {
      "image/svg+xml": [
       "<svg id=\"svg5088\" inkscape:version=\"0.91 r13725\" sodipodi:docname=\"chemi.svg\" version=\"1.1\" viewBox=\"0 0 310 529.95367\" xmlns=\"http://www.w3.org/2000/svg\" xmlns:cc=\"http://creativecommons.org/ns#\" xmlns:dc=\"http://purl.org/dc/elements/1.1/\" xmlns:inkscape=\"http://www.inkscape.org/namespaces/inkscape\" xmlns:rdf=\"http://www.w3.org/1999/02/22-rdf-syntax-ns#\" xmlns:sodipodi=\"http://sodipodi.sourceforge.net/DTD/sodipodi-0.dtd\" xmlns:svg=\"http://www.w3.org/2000/svg\">\n",
       "  <metadata id=\"metadata5117\">\n",
       "    <rdf:RDF>\n",
       "      <cc:Work rdf:about=\"\">\n",
       "        <dc:format>image/svg+xml</dc:format>\n",
       "        <dc:type rdf:resource=\"http://purl.org/dc/dcmitype/StillImage\"/>\n",
       "      </cc:Work>\n",
       "    </rdf:RDF>\n",
       "  </metadata>\n",
       "  <sodipodi:namedview bordercolor=\"#666666\" borderopacity=\"1\" gridtolerance=\"10\" guidetolerance=\"10\" id=\"namedview5115\" inkscape:current-layer=\"svg5088\" inkscape:cx=\"155\" inkscape:cy=\"264.97684\" inkscape:pageopacity=\"0\" inkscape:pageshadow=\"2\" inkscape:window-height=\"1016\" inkscape:window-maximized=\"1\" inkscape:window-width=\"1920\" inkscape:window-x=\"0\" inkscape:window-y=\"27\" inkscape:zoom=\"0.44532194\" objecttolerance=\"10\" pagecolor=\"#ffffff\" showgrid=\"false\"/>\n",
       "  <defs id=\"defs5090\">\n",
       "    <linearGradient gradientTransform=\"matrix(0.85961,0,0,0.85961,-566.95,-186.69)\" gradientUnits=\"userSpaceOnUse\" id=\"a\" x1=\"838.34\" x2=\"749.92\" y1=\"496.4\" y2=\"797.8\">\n",
       "      <stop id=\"stop5093\" offset=\"0\" stop-color=\"#2a7fff\"/>\n",
       "      <stop id=\"stop5095\" offset=\"1\" stop-color=\"#80b3ff\"/>\n",
       "    </linearGradient>\n",
       "  </defs>\n",
       "  <path d=\"M 230.45862,6.9973252 C 156.76511,159.99071 83.044101,312.9755 9.3755245,465.98608 c -3.9750086,8.65886 -5.5872071,18.6226 -3.3594418,27.96054 2.5245026,10.88094 10.1219073,20.29023 19.8698853,25.64303 9.671472,5.3919 21.554721,6.97822 32.127064,3.55311 9.393818,-2.99007 17.273003,-9.87692 22.295705,-18.29078 3.119008,-5.2138 5.422419,-10.8543 8.152799,-16.2707 L 302.70214,43.844852 c 0.56467,-1.172079 3.58526,-2.574446 1.69386,-3.516235 L 231.35665,5.1447797 c -1.67907,-0.6870089 -0.59511,1.2355174 -0.8927,1.8533191 z\" id=\"path5099\" inkscape:connector-curvature=\"0\" style=\"fill:#004455\"/>\n",
       "  <path d=\"M 231.65348,6.0173698 303.52117,40.637303 82.42948,499.60887 C 58.035468,550.24935 -13.606149,515.15836 10.561786,464.98894 L 231.65348,6.0173698 Z\" id=\"path5101\" inkscape:connector-curvature=\"0\" style=\"fill:#f7feff\"/>\n",
       "  <path d=\"M 136.89867,213.04584 215.60456,212.79348 78.385015,497.65964 C 56.525133,543.03931 -6.1352783,509.983 14.601953,466.9346 L 136.89867,213.04878 Z\" id=\"path5103\" inkscape:connector-curvature=\"0\" style=\"fill:#a02c2c\"/>\n",
       "  <path d=\"M 231.67067,6.0087737 10.570382,464.99753 c -24.167075,50.16856 47.458209,85.25354 71.853081,34.6122 L 303.52375,40.62097 299.48144,38.673696 78.381147,497.66246 C 56.521265,543.04213 -6.1236736,509.9927 14.612698,466.94429 L 235.71299,7.9555325 231.67058,6.0082579 Z\" id=\"path5105\" inkscape:connector-curvature=\"0\" style=\"fill:#d5f6ff\"/>\n",
       "  <path d=\"M 231.67067,6.0087737 C 230.9183,5.614995 230.95663,6.1808074 231.22082,6.942654 L 10.567528,464.99444 c -24.167075,50.16856 47.458209,85.25354 71.853081,34.6122 L 302.74727,42.56919 c 1.21127,-0.287539 1.81085,-1.453084 0.77425,-1.944953 L 299.4792,38.676962 78.378895,497.66572 C 56.519013,543.04539 -6.1259258,509.99597 14.610446,466.94756 L 235.71073,7.958799 231.66833,6.0115245 Z\" id=\"path5107\" inkscape:connector-curvature=\"0\" style=\"fill:#d5f6ff\"/>\n",
       "  <path d=\"M 240.98884,14.931526 260.85873,24.503283 52.196997,457.67795 C 29.174062,505.47227 9.5190794,495.45523 32.327111,448.1062 L 240.98884,14.931526 Z\" id=\"path5109\" inkscape:connector-curvature=\"0\" style=\"fill:#aaccff\"/>\n",
       "  <path d=\"M 241.86565,17.278261 253.91222,23.081316 49.772037,446.86045 C 27.248536,493.61808 15.411706,487.37903 37.725462,441.05739 L 241.86565,17.278261 Z\" id=\"path5111\" inkscape:connector-curvature=\"0\" style=\"fill:#f5f9ff\"/>\n",
       "  <path d=\"m 84.110018,344.75529 c 3.407064,-6.70617 16.686752,-4.19576 12.046574,5.80305 l -58.394166,121.2222 c -6.442863,13.37468 -18.429179,7.44715 -12.046575,-5.80305 l 58.394167,-121.2222 z\" id=\"path5113\" inkscape:connector-curvature=\"0\" style=\"fill:#ffffff\"/>\n",
       "</svg>"
      ],
      "text/plain": [
       "<IPython.core.display.SVG object>"
      ]
     },
     "execution_count": 24,
     "metadata": {},
     "output_type": "execute_result"
    }
   ],
   "source": [
    "from IPython.display import SVG\n",
    "SVG(filename='chemi.svg')\n",
    "\n"
   ]
  }
 ],
 "metadata": {
  "kernelspec": {
   "display_name": "Python 3",
   "language": "python",
   "name": "python3"
  },
  "language_info": {
   "codemirror_mode": {
    "name": "ipython",
    "version": 3
   },
   "file_extension": ".py",
   "mimetype": "text/x-python",
   "name": "python",
   "nbconvert_exporter": "python",
   "pygments_lexer": "ipython3",
   "version": "3.6.1"
  }
 },
 "nbformat": 4,
 "nbformat_minor": 2
}
