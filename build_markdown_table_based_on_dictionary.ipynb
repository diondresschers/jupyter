{
 "cells": [
  {
   "cell_type": "code",
   "execution_count": 1,
   "metadata": {},
   "outputs": [
    {
     "data": {
      "text/markdown": [
       "\n",
       "|Criteria|Feedback|\n",
       "|:--------|:--------|\n",
       "|Het scenario reflecteert een visie op onderwijs. Het scenario verbindt verschillende (maatschappelijke en economische) ontwikkelingen aan verwachte veranderingen binnen het  onderwijs.|1|\n",
       "|Het scenario raakt aan de grenzen van de maatschappelijke opdracht van de school.|2|\n",
       "|Het scenario is geschreven vanuit het perspectief van de toekomst (alsof we al in 2030 zijn) met gebruik van de speculatieve methode van backcasting.|3|\n",
       "|Het scenario is aannemelijk. Alleen feiten en voorspellingen die het scenario ondersteunen zijn gebruikt.|4|\n",
       "|Het scenario  bevat uitdagende en vernieuwende elementen (out of the box).|5|\n",
       "|Het scenario is onderbouwd m.b.v. wetenschappelijke theorie (inkaderen).|6|\n",
       "|Er is gebruik gemaakt van input vanuit innovatienetwerken/trajecten buiten de eigen school.|7|"
      ],
      "text/plain": [
       "<IPython.core.display.Markdown object>"
      ]
     },
     "metadata": {},
     "output_type": "display_data"
    }
   ],
   "source": [
    "from IPython.display import display, Markdown, Latex\n",
    "\n",
    "dictionary = {\n",
    "    \"Criteria\" : \"Feedback\",\n",
    "    \"Het scenario reflecteert een visie op onderwijs. Het scenario verbindt verschillende (maatschappelijke en economische) ontwikkelingen aan verwachte veranderingen binnen het  onderwijs.\" : \"1\",\n",
    "    \"Het scenario raakt aan de grenzen van de maatschappelijke opdracht van de school.\" : \"2\",\n",
    "    \"Het scenario is geschreven vanuit het perspectief van de toekomst (alsof we al in 2030 zijn) met gebruik van de speculatieve methode van backcasting.\" : \"3\",\n",
    "    \"Het scenario is aannemelijk. Alleen feiten en voorspellingen die het scenario ondersteunen zijn gebruikt.\" : \"4\",\n",
    "    \"Het scenario  bevat uitdagende en vernieuwende elementen (out of the box).\" : \"5\",\n",
    "    \"Het scenario is onderbouwd m.b.v. wetenschappelijke theorie (inkaderen).\" : \"6\",\n",
    "    \"Er is gebruik gemaakt van input vanuit innovatienetwerken/trajecten buiten de eigen school.\" : \"7\",\n",
    "}\n",
    "\n",
    "def build_markdown_table_based_on_dictionary(dictionary):\n",
    "    from IPython.display import display, Markdown as md, Latex\n",
    "    from time import strftime, gmtime\n",
    "    import re # is regular expression\n",
    "\n",
    "    teller = 0\n",
    "    tabel = \"\"\n",
    "    for key, value in dictionary.items():\n",
    "        tabel += \"\\n|{}|{}|\".format(key,value)\n",
    "        if teller == 0:\n",
    "            key = re.sub('.','-',key)\n",
    "            key = re.sub('^', \":\", key)\n",
    "            value = re.sub('.','-',value)       \n",
    "            value = re.sub('^', \":\", value)\n",
    "            regel = \"\\n|{}|{}|\".format(key, value)\n",
    "            tabel = tabel + regel\n",
    "            teller += 1\n",
    "\n",
    "    return(tabel)\n",
    "\n",
    "tabel = build_markdown_table_based_on_dictionary(dictionary)\n",
    "\n",
    "display(Markdown(tabel))    "
   ]
  }
 ],
 "metadata": {
  "kernelspec": {
   "display_name": "Python 3",
   "language": "python",
   "name": "python3"
  },
  "language_info": {
   "codemirror_mode": {
    "name": "ipython",
    "version": 3
   },
   "file_extension": ".py",
   "mimetype": "text/x-python",
   "name": "python",
   "nbconvert_exporter": "python",
   "pygments_lexer": "ipython3",
   "version": "3.6.4"
  }
 },
 "nbformat": 4,
 "nbformat_minor": 2
}
