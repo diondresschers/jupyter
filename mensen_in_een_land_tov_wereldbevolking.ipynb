{
 "cells": [
  {
   "cell_type": "code",
   "execution_count": null,
   "metadata": {},
   "outputs": [],
   "source": [
    "# from ipythonblocks import BlockGrid, colors\n",
    "import math\n",
    "\n",
    "bewoners_land = input(\"Hoeveel mensen wonen er in je land in miljoenen? \")\n",
    "bewoners_land = int(bewoners_land)\n",
    "bewoners_land *= 1000000 \n",
    "bewoners_aarde = 7605000000\n",
    "\n",
    "verhouding = bewoners_aarde / int(bewoners_land)\n",
    "\n",
    "verhouding = int(verhouding)\n",
    "breedte = math.sqrt(verhouding)\n",
    "breedte = round(breedte)\n",
    "\n",
    "print(\"Het rode blokje is het aantal personen die in je land leven ten opzichten van mensen op de aarde.\")\n",
    "\n",
    "grid = BlockGrid(width=breedte, height=breedte, fill=colors['Blue'])\n",
    "x = int(breedte / 2)\n",
    "grid[x,x] = colors['Red']\n",
    "grid.show()"
   ]
  }
 ],
 "metadata": {
  "kernelspec": {
   "display_name": "Python 3",
   "language": "python",
   "name": "python3"
  }
 },
 "nbformat": 4,
 "nbformat_minor": 2
}
