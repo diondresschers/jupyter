{
 "cells": [
  {
   "cell_type": "code",
   "execution_count": 2,
   "metadata": {
    "scrolled": false
   },
   "outputs": [
    {
     "name": "stdout",
     "output_type": "stream",
     "text": [
      "{0: {'url': 'https://youtu.be/B79miUFD_ss', 'titel': 'Kivy Tutorial - YouTube', 'jaar': None, 'maker': None, 'opgehaald': None}, 1: {'url': 'https://youtu.be/j9PqNe3J_Cc', 'titel': 'Kivy Tutorial 2 - YouTube', 'jaar': None, 'maker': None, 'opgehaald': None}, 2: {'url': 'https://youtu.be/6yMHHC36tT0', 'titel': 'Kivy Tutorial 3 : Kivy Calculator - YouTube', 'jaar': None, 'maker': None, 'opgehaald': None}, 3: {'url': 'https://youtu.be/dxXsZKmD3Kk', 'titel': 'Kivy Tutorial 4 : Kivy ListView & ListAdapter - YouTube', 'jaar': None, 'maker': None, 'opgehaald': None}, 4: {'url': 'https://youtu.be/8SK7b0HARbY', 'titel': 'Kivy Tutorial 5 : Widgets & Switching Screens - YouTube', 'jaar': None, 'maker': None, 'opgehaald': None}}\n"
     ]
    }
   ],
   "source": [
    "from IPython.display import display, Markdown, Latex\n",
    "import bs4\n",
    "import urllib.request\n",
    "import lxml\n",
    "\n",
    "def titel_referentie(url): \n",
    "    sauce = urllib.request.urlopen(url).read()\n",
    "    soup = bs4.BeautifulSoup(sauce, 'lxml')\n",
    "    titel = soup.title.string\n",
    "    return titel\n",
    "\n",
    "def update_referenties(url):\n",
    "    #import bs4\n",
    "    #import urllib.request\n",
    "    #import lxml\n",
    "    \n",
    "    teller = 0\n",
    "    referenties = {}\n",
    "    for url in urls:\n",
    "        nieuw = {\n",
    "            teller:{\n",
    "                \"url\": url,\n",
    "                \"titel\": titel_referentie(url),\n",
    "                \"jaar\": None,\n",
    "                \"maker\": None,\n",
    "                \"opgehaald\": None,\n",
    "            }\n",
    "        }\n",
    "        referenties.update(nieuw)\n",
    "        teller += 1\n",
    "    return referenties\n",
    "\n",
    "def print_referenties(referenties):\n",
    "    for key, value in referenties.items():\n",
    "        #print(key) -> return the first integer like 0.\n",
    "        #print(type(value))\n",
    "        \"\"\" # not necessary for getting all info\n",
    "        for key1, value1 in value.items():\n",
    "            # print(\"{} {}\".format(key1,value1))\n",
    "            # print(\"{} - [{}]:{}\".format(key,key1, value1))\n",
    "            #print(referenties[key]['titel'])\n",
    "            a = 1 # just a placeholder\n",
    "        \"\"\"\n",
    "        url = referenties[key]['url']\n",
    "        titel = referenties[key]['titel']\n",
    "        jaar = referenties[key]['jaar']\n",
    "        maker = referenties[key]['maker']\n",
    "        opgehaald = referenties[key]['opgehaald']\n",
    "        string = \"{} - {} - {} \".format(key,url,titel)\n",
    "    return string\n",
    "\n",
    "tekst = \"\"\"\n",
    "# Referenties:\n",
    "\"\"\"\n",
    "\n",
    "urls = [\n",
    "    \"https://youtu.be/B79miUFD_ss\",\n",
    "    \"https://youtu.be/j9PqNe3J_Cc\",\n",
    "    \"https://youtu.be/6yMHHC36tT0\",\n",
    "    \"https://youtu.be/dxXsZKmD3Kk\",\n",
    "    \"https://youtu.be/8SK7b0HARbY\",\n",
    "]\n",
    "\n",
    "tekst = tekst\n",
    "\n",
    "\"\"\"\n",
    "url = \"https://youtu.be/8SK7b0HARbY\"\n",
    "titel = titel_referentie(url)\n",
    "print(titel)\n",
    "\"\"\"\n",
    "\n",
    "referenties = update_referenties(urls)\n",
    "#print(referenties)    \n",
    "\n",
    "print(referenties)\n",
    "\n",
    "\n",
    "\n"
   ]
  },
  {
   "cell_type": "code",
   "execution_count": 4,
   "metadata": {},
   "outputs": [
    {
     "name": "stdout",
     "output_type": "stream",
     "text": [
      "---\n"
     ]
    },
    {
     "data": {
      "text/markdown": [
       "Dit is een test of de referenties naar het [eerste filmpje][1] ook werken ook werken.\n",
       "# Referenties\n",
       "n.b. (2018). *Kivy Tutorial - YouTube*. Opgehaald van https://youtu.be/B79miUFD_ss.\n",
       "\n",
       "n.b. (2018). *Kivy Tutorial 2 - YouTube*. Opgehaald van https://youtu.be/j9PqNe3J_Cc.\n",
       "\n",
       "n.b. (2018). *Kivy Tutorial 3 : Kivy Calculator - YouTube*. Opgehaald van https://youtu.be/6yMHHC36tT0.\n",
       "\n",
       "n.b. (2018). *Kivy Tutorial 4 : Kivy ListView & ListAdapter - YouTube*. Opgehaald van https://youtu.be/dxXsZKmD3Kk.\n",
       "\n",
       "n.b. (2018). *Kivy Tutorial 5 : Widgets & Switching Screens - YouTube*. Opgehaald van https://youtu.be/8SK7b0HARbY.\n",
       "\n",
       "[0]: https://youtu.be/B79miUFD_ss\n",
       "[1]: https://youtu.be/j9PqNe3J_Cc\n",
       "[2]: https://youtu.be/6yMHHC36tT0\n",
       "[3]: https://youtu.be/dxXsZKmD3Kk\n",
       "[4]: https://youtu.be/8SK7b0HARbY\n"
      ],
      "text/plain": [
       "<IPython.core.display.Markdown object>"
      ]
     },
     "metadata": {},
     "output_type": "display_data"
    }
   ],
   "source": [
    "# print(referenties)\n",
    "\n",
    "def print2(referenties):\n",
    "    preamble = \"Dit is een test of de referenties naar het [eerste filmpje][1] ook werken ook werken.\\n\"\n",
    "    hoofdtitel = \"# Referenties\\n\"\n",
    "    apareferentie = \"\" \n",
    "    hiddenreferentie = \"\"\n",
    "    referentielijst = \"\"\n",
    "    for key, value in referenties.items():\n",
    "        #print(key) # -> return the first integer like 0.\n",
    "        #print(type(value))\n",
    "        #not necessary for getting all info\n",
    "        #for key1, value1 in value.items():\n",
    "            # print(\"{} {}\".format(key1,value1))\n",
    "            # print(\"{} - [{}]:{}\".format(key,key1, value1))\n",
    "            #print(referenties[key]['titel'])\n",
    "            # a = 1 # just a placeholder\n",
    "        url = referenties[key]['url']\n",
    "        titel = referenties[key]['titel']\n",
    "        jaar = referenties[key]['jaar']\n",
    "        maker = referenties[key]['maker']\n",
    "        opgehaald = referenties[key]['opgehaald']\n",
    "        #apareferentie += \"{} - {} - {} \\n\".format(key,url,titel)\n",
    "        apareferentie += \"n.b. (2018). *{}*. Opgehaald van {}.\\n\\n\".format(titel, url)\n",
    "        hiddenreferentie += \"[{}]: {}\\n\".format(key, url) # Deze is niet zichtbaar omdat het Markdown referenties zijn. # Met haakjes om de URL, maak je het een interne link\n",
    "    referentielijst = preamble + hoofdtitel + apareferentie + hiddenreferentie\n",
    "    return referentielijst\n",
    "\n",
    "tekst = print2(referenties)\n",
    "\n",
    "print(\"---\")\n",
    "display(Markdown(tekst))\n"
   ]
  },
  {
   "cell_type": "code",
   "execution_count": null,
   "metadata": {
    "collapsed": true
   },
   "outputs": [],
   "source": []
  }
 ],
 "metadata": {
  "kernelspec": {
   "display_name": "Python 3",
   "language": "python",
   "name": "python3"
  },
  "language_info": {
   "codemirror_mode": {
    "name": "ipython",
    "version": 3
   },
   "file_extension": ".py",
   "mimetype": "text/x-python",
   "name": "python",
   "nbconvert_exporter": "python",
   "pygments_lexer": "ipython3",
   "version": "3.6.4"
  }
 },
 "nbformat": 4,
 "nbformat_minor": 2
}
